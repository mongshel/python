{
 "cells": [
  {
   "cell_type": "code",
   "execution_count": 26,
   "id": "educational-tract",
   "metadata": {},
   "outputs": [],
   "source": [
    "%run ../ch02/pulsar_ext.ipynb"
   ]
  },
  {
   "cell_type": "code",
   "execution_count": 20,
   "id": "composite-steel",
   "metadata": {},
   "outputs": [
    {
     "name": "stdout",
     "output_type": "stream",
     "text": [
      "Epoch 1: loss=0.139, result0.9530.9750.6240.761\n",
      "Epoch 2: loss=0.128, result0.9420.9690.6960.810\n",
      "Epoch 3: loss=0.130, result0.9110.9510.7340.828\n",
      "Epoch 4: loss=0.131, result0.8580.9170.7620.832\n",
      "Epoch 5: loss=0.130, result0.9130.9530.7550.843\n",
      "Epoch 6: loss=0.127, result0.8230.8930.8090.849\n",
      "Epoch 7: loss=0.130, result0.9090.9500.7180.818\n",
      "Epoch 8: loss=0.119, result0.9250.9600.7430.837\n",
      "Epoch 9: loss=0.116, result0.9450.9710.7270.832\n",
      "Epoch 10: loss=0.120, result0.9550.9760.6490.780\n",
      "\n",
      "Final Test : final result = 0.955,0.976,0.649,0.780\n"
     ]
    }
   ],
   "source": [
    "pulsar_exec()"
   ]
  },
  {
   "cell_type": "code",
   "execution_count": 28,
   "id": "diagnostic-fundamental",
   "metadata": {},
   "outputs": [
    {
     "name": "stdout",
     "output_type": "stream",
     "text": [
      "Epoch 1: loss=0.440, result0.8670.9230.9150.919\n",
      "Epoch 2: loss=0.396, result0.9130.9520.8930.921\n",
      "Epoch 3: loss=0.374, result0.9860.9930.7960.884\n",
      "Epoch 4: loss=0.382, result0.9270.9610.8750.916\n",
      "Epoch 5: loss=0.386, result0.9680.9840.8460.909\n",
      "Epoch 6: loss=0.362, result0.9620.9800.8570.915\n",
      "Epoch 7: loss=0.377, result0.8100.8830.9400.911\n",
      "Epoch 8: loss=0.374, result0.9190.9560.8860.920\n",
      "Epoch 9: loss=0.383, result0.9280.9610.8870.923\n",
      "Epoch 10: loss=0.365, result0.9780.9890.8220.898\n",
      "\n",
      "Final Test : final result = 0.978,0.989,0.822,0.898\n"
     ]
    }
   ],
   "source": [
    "pulsar_exec(adjust_ratio=True)"
   ]
  },
  {
   "cell_type": "code",
   "execution_count": null,
   "id": "parliamentary-living",
   "metadata": {},
   "outputs": [],
   "source": []
  }
 ],
 "metadata": {
  "kernelspec": {
   "display_name": "Python 3",
   "language": "python",
   "name": "python3"
  },
  "language_info": {
   "codemirror_mode": {
    "name": "ipython",
    "version": 3
   },
   "file_extension": ".py",
   "mimetype": "text/x-python",
   "name": "python",
   "nbconvert_exporter": "python",
   "pygments_lexer": "ipython3",
   "version": "3.8.8"
  }
 },
 "nbformat": 4,
 "nbformat_minor": 5
}
