{
 "cells": [
  {
   "cell_type": "markdown",
   "id": "vocational-survival",
   "metadata": {},
   "source": [
    "logit 실행하려는 값을 로그 값으로 나타낸것\n",
    "시그모이드 \n",
    "a(x) = 1/(1+e^(-x))\n"
   ]
  },
  {
   "cell_type": "markdown",
   "id": "pacific-radiation",
   "metadata": {},
   "source": [
    "확률 분포와 정보 엔트로피"
   ]
  },
  {
   "cell_type": "code",
   "execution_count": 23,
   "id": "frozen-matrix",
   "metadata": {},
   "outputs": [],
   "source": [
    "import numpy as np \n",
    "import csv\n",
    "import time \n",
    "import os"
   ]
  },
  {
   "cell_type": "code",
   "execution_count": 24,
   "id": "expired-wednesday",
   "metadata": {},
   "outputs": [],
   "source": [
    "%run ../ch01/abalone.ipynb"
   ]
  },
  {
   "cell_type": "code",
   "execution_count": 27,
   "id": "hispanic-detail",
   "metadata": {},
   "outputs": [],
   "source": [
    "def pulsar_exec(epoch_count=10, mb_size = 10, report =1):\n",
    "    load_pulsar_dataset()\n",
    "    init_model()\n",
    "    train_and_test(epoch_count, mb_size, report)\n",
    "    \n",
    "    \n",
    "def load_pulsar_dataset():\n",
    "    with open(\"pulsar_stars.csv\") as csvfile:\n",
    "        csvreader = csv.reader(csvfile)\n",
    "        next(csvreader, None)\n",
    "        rows = []\n",
    "        for row in csvreader:\n",
    "            rows.append(row)\n",
    "            \n",
    "    global data, input_cnt, output_cnt\n",
    "    input_cnt, output_cnt = 8, 1\n",
    "    data = np.asarray(rows,dtype ='float32')\n",
    "    \n",
    "def forward_postproc(output, y):\n",
    "    entropy = sigmoid_cross_entropy_with_logits(y, output)\n",
    "    loss = np.mean(entropy)\n",
    "    return loss, [y,output, entropy]\n",
    "\n",
    "def backprop_postproc(G_loss, aux):\n",
    "    y, output, entropy = aux\n",
    "    \n",
    "    g_loss_entropy = 1.0/np.prod(entropy.shape)\n",
    "    g_entropy_output = sigmoid_cross_entropy_with_logits_dervs(y, output)\n",
    "    \n",
    "    G_entropy = g_loss_entropy * G_loss\n",
    "    G_output = g_entropy_output * G_entropy\n",
    "    \n",
    "    return G_output\n",
    "\n",
    "def eval_accuracy(output,y):\n",
    "    estimate = np.greater(output,0)\n",
    "    answer = np.greater(y, 0.5)\n",
    "    correct = np.equal(estimate, answer)\n",
    "    \n",
    "    return np.mean(correct)\n",
    "\n",
    "def relu(x):\n",
    "    return np.maximum(x,0)\n",
    "\n",
    "def sigmoid(x):\n",
    "    return np.exp(-relu(-x)) / (1.0 +np.exp(-np.abs(x)))\n",
    "\n",
    "def sigmoid_derv(x,y):\n",
    "    return y*(1-y)\n",
    "\n",
    "def sigmoid_cross_entropy_with_logits(z, x):\n",
    "    return relu(x) -x*z + np.log(1 + np.exp(-np.abs(x)))\n",
    "\n",
    "def sigmoid_cross_entropy_with_logits_dervs(z,x):\n",
    "    return -z +sigmoid(x)\n"
   ]
  },
  {
   "cell_type": "code",
   "execution_count": 22,
   "id": "satellite-wednesday",
   "metadata": {},
   "outputs": [
    {
     "data": {
      "text/plain": [
       "8"
      ]
     },
     "execution_count": 22,
     "metadata": {},
     "output_type": "execute_result"
    }
   ],
   "source": [
    "np.prod((1,2,4))"
   ]
  },
  {
   "cell_type": "code",
   "execution_count": null,
   "id": "nearby-athens",
   "metadata": {},
   "outputs": [],
   "source": []
  }
 ],
 "metadata": {
  "kernelspec": {
   "display_name": "Python 3",
   "language": "python",
   "name": "python3"
  },
  "language_info": {
   "codemirror_mode": {
    "name": "ipython",
    "version": 3
   },
   "file_extension": ".py",
   "mimetype": "text/x-python",
   "name": "python",
   "nbconvert_exporter": "python",
   "pygments_lexer": "ipython3",
   "version": "3.8.8"
  }
 },
 "nbformat": 4,
 "nbformat_minor": 5
}
