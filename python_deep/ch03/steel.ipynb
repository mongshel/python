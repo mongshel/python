{
 "cells": [
  {
   "cell_type": "code",
   "execution_count": 1,
   "id": "professional-desperate",
   "metadata": {},
   "outputs": [],
   "source": [
    "%run ../ch01/abalone.ipynb"
   ]
  },
  {
   "cell_type": "code",
   "execution_count": null,
   "id": "round-shift",
   "metadata": {},
   "outputs": [],
   "source": [
    "def steel_exec(epoch_count=10, mb_size = 10, report=1):\n",
    "    load_steel_dataset()\n",
    "    init_modle()\n",
    "    train_and_test(epoch_count, mb_size, report)\n",
    "    \n",
    "def load_steel_datset():\n",
    "    with open(\"faults.csv\") as csv:\n",
    "        csvreader = csv.reader(csvfile)\n",
    "        next(csvreader, None)\n",
    "        rows = []\n",
    "        for row in csvreader:\n",
    "            rows.append(row)\n",
    "    global data, input_cnt, output_cnt"
   ]
  }
 ],
 "metadata": {
  "kernelspec": {
   "display_name": "Python 3",
   "language": "python",
   "name": "python3"
  },
  "language_info": {
   "codemirror_mode": {
    "name": "ipython",
    "version": 3
   },
   "file_extension": ".py",
   "mimetype": "text/x-python",
   "name": "python",
   "nbconvert_exporter": "python",
   "pygments_lexer": "ipython3",
   "version": "3.8.8"
  }
 },
 "nbformat": 4,
 "nbformat_minor": 5
}
