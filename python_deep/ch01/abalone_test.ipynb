{
 "cells": [
  {
   "cell_type": "code",
   "execution_count": 1,
   "id": "settled-fifteen",
   "metadata": {},
   "outputs": [],
   "source": [
    "%run abalone.ipynb"
   ]
  },
  {
   "cell_type": "code",
   "execution_count": 17,
   "id": "dying-homework",
   "metadata": {},
   "outputs": [
    {
     "name": "stdout",
     "output_type": "stream",
     "text": [
      "Epoch 20 : loss=7.504, accuracy = 0.817/0.817\n",
      "Epoch 40 : loss=7.231, accuracy = 0.811/0.813\n",
      "Epoch 60 : loss=7.086, accuracy = 0.810/0.813\n",
      "Epoch 80 : loss=6.980, accuracy = 0.810/0.813\n",
      "Epoch 100 : loss=6.896, accuracy = 0.810/0.813\n",
      "\n",
      "Final Test : final accuracy = 0.813\n",
      "[[1.02176054]\n",
      " [1.51720756]\n",
      " [1.63408625]\n",
      " [2.03592626]\n",
      " [1.61544078]\n",
      " [0.59309055]\n",
      " [2.3459077 ]\n",
      " [0.53335992]\n",
      " [0.46804474]\n",
      " [1.01191688]]\n",
      "[4.16890233]\n"
     ]
    }
   ],
   "source": [
    "import numpy as np\n",
    "import csv\n",
    "import time\n",
    "\n",
    "LEARNING_RATE = 0.1\n",
    "\n",
    "abablone_exec(epoch_count = 100, mb_size = 100, report =20)\n",
    "\n",
    "print(weight)\n",
    "print(bias)"
   ]
  },
  {
   "cell_type": "code",
   "execution_count": null,
   "id": "amazing-values",
   "metadata": {},
   "outputs": [],
   "source": []
  }
 ],
 "metadata": {
  "kernelspec": {
   "display_name": "Python 3",
   "language": "python",
   "name": "python3"
  },
  "language_info": {
   "codemirror_mode": {
    "name": "ipython",
    "version": 3
   },
   "file_extension": ".py",
   "mimetype": "text/x-python",
   "name": "python",
   "nbconvert_exporter": "python",
   "pygments_lexer": "ipython3",
   "version": "3.8.8"
  }
 },
 "nbformat": 4,
 "nbformat_minor": 5
}
